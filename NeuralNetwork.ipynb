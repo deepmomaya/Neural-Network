{
  "cells": [
    {
      "cell_type": "markdown",
      "metadata": {
        "id": "AUzsYcYot2Ng"
      },
      "source": [
        "Import the libraries"
      ]
    },
    {
      "cell_type": "code",
      "execution_count": 8,
      "metadata": {
        "id": "f1woPKF3tgQ8"
      },
      "outputs": [],
      "source": [
        "import numpy as np\n",
        "import matplotlib.pyplot as plt\n",
        "from sklearn.metrics import accuracy_score\n",
        "from sklearn.model_selection import train_test_split\n",
        "import pickle"
      ]
    },
    {
      "cell_type": "markdown",
      "metadata": {
        "id": "auSxxpQtxlUZ"
      },
      "source": [
        "Class Layer"
      ]
    },
    {
      "cell_type": "code",
      "execution_count": 105,
      "metadata": {
        "id": "dEJzcSpJxluM"
      },
      "outputs": [],
      "source": [
        "class Layer:\n",
        "    def __init__(self):\n",
        "        # Initialize input and output attributes to None\n",
        "        self.input = None\n",
        "        self.output = None\n",
        "\n",
        "    def forward_pass(self, input_data):\n",
        "        # Forward pass method to compute the output given the input\n",
        "        pass\n",
        "\n",
        "    def backward_pass(self, error, learning_rate):\n",
        "        # Backward pass method to compute the gradients and update the parameters\n",
        "        pass\n"
      ]
    },
    {
      "cell_type": "markdown",
      "metadata": {
        "id": "sAfaFrN_1oR5"
      },
      "source": [
        "Linear Layer"
      ]
    },
    {
      "cell_type": "code",
      "execution_count": 106,
      "metadata": {
        "id": "uFch1lLuihDj"
      },
      "outputs": [],
      "source": [
        "class LinearLayer(Layer):\n",
        "    def __init__(self, input_size, output_size):\n",
        "        # Initializes the linear layer with random weights and biases.\n",
        "        super().__init__()\n",
        "        self.weights = np.random.rand(input_size, output_size) / np.sqrt(input_size)\n",
        "        self.bias = np.random.rand(1, output_size) - 0.5\n",
        "\n",
        "    def forward_pass(self, input_data):\n",
        "        # Performs the forward pass computation of the linear layer.\n",
        "        # Applies weights and biases to input data\n",
        "        self.input_data = input_data\n",
        "        output_data = np.add(np.matmul(input_data, self.weights), self.bias)\n",
        "        return output_data\n",
        "\n",
        "    def backward_pass(self, error, learning_rate):\n",
        "        # Performs the backward pass computation of the linear layer.\n",
        "        # Updates weights and biases based on the error and learning rate\n",
        "        self.weights -= learning_rate * np.matmul(self.input_data.T, error)\n",
        "        self.bias -= learning_rate * np.sum(error, axis=0)\n",
        "        # Computes error to be propagated back\n",
        "        input_error = np.matmul(error, self.weights.T)\n",
        "        return input_error\n"
      ]
    },
    {
      "cell_type": "markdown",
      "metadata": {
        "id": "rgQN6t9tPOej"
      },
      "source": [
        "Sigmoid Activation Layer"
      ]
    },
    {
      "cell_type": "code",
      "execution_count": 107,
      "metadata": {
        "id": "xsVRQcNBPeLD"
      },
      "outputs": [],
      "source": [
        "class SigmoidActivation(Layer):\n",
        "    def __init__(self):\n",
        "        # Initializes the Sigmoid activation layer.\n",
        "        super().__init__()\n",
        "\n",
        "    def forward_pass(self, input_data):\n",
        "        # Performs the forward pass computation using Sigmoid activation.\n",
        "        self.input_data = input_data\n",
        "        output_data = 1 / (1 + np.exp(-input_data))\n",
        "        return output_data\n",
        "\n",
        "    def backward_pass(self, error):\n",
        "        # Performs the backward pass computation for Sigmoid activation.\n",
        "        # Compute derivative of Sigmoid activation\n",
        "        sigmoid_derivative = self.input_data * (1 - self.input_data)\n",
        "        # Propagate error backward\n",
        "        input_error = sigmoid_derivative * error\n",
        "        return input_error\n"
      ]
    },
    {
      "cell_type": "markdown",
      "metadata": {
        "id": "HCQNCprKPkxU"
      },
      "source": [
        "Hyperbolic Tangent Activation Layer"
      ]
    },
    {
      "cell_type": "code",
      "execution_count": 108,
      "metadata": {
        "id": "-5OfF9juPnc_"
      },
      "outputs": [],
      "source": [
        "class TanhActivation(Layer):\n",
        "    def __init__(self):\n",
        "        # Initializes the Tanh activation layer.\n",
        "        super().__init__()\n",
        "\n",
        "    def forward_pass(self, input_data):\n",
        "        # Performs the forward pass computation using the Tanh activation function.\n",
        "        # Compute Tanh activation and store the result\n",
        "        self.activation_output = np.tanh(input_data)\n",
        "        return self.activation_output\n",
        "\n",
        "    def backward_pass(self, error):\n",
        "        # Performs the backward pass computation for Tanh activation.\n",
        "        # Compute derivative of Tanh activation\n",
        "        tanh_derivative = 1 - self.activation_output ** 2\n",
        "        # Propagate error backward\n",
        "        input_error = tanh_derivative * error\n",
        "        return input_error\n"
      ]
    },
    {
      "cell_type": "markdown",
      "metadata": {
        "id": "O0I9FUBxPsrv"
      },
      "source": [
        "Cross Entropy Loss"
      ]
    },
    {
      "cell_type": "code",
      "execution_count": 109,
      "metadata": {
        "id": "C7v3ivIFPtVN"
      },
      "outputs": [],
      "source": [
        "class CrossEntropyLoss(Layer):\n",
        "    def __init__(self):\n",
        "        # Initializes the Cross Entropy Loss layer.\n",
        "        super().__init__()\n",
        "\n",
        "    def forward_pass(self, predictions, targets):\n",
        "        # Computes the forward pass of the Cross Entropy Loss.\n",
        "        # Compute the Cross Entropy Loss\n",
        "        loss = -targets * np.log(predictions)\n",
        "        return loss\n",
        "\n",
        "    def backward_pass(self, predictions, targets):\n",
        "        # Computes the backward pass of the Cross Entropy Loss.\n",
        "        # Compute the error for backpropagation\n",
        "        error = targets - predictions\n",
        "        return error\n"
      ]
    },
    {
      "cell_type": "markdown",
      "metadata": {
        "id": "TuRPmKs1PtsI"
      },
      "source": [
        "Soft Max Layer"
      ]
    },
    {
      "cell_type": "code",
      "execution_count": 110,
      "metadata": {
        "id": "yMxilbI_P0Ye"
      },
      "outputs": [],
      "source": [
        "class Softmax(Layer):\n",
        "    def __init__(self):\n",
        "        # Initializes the Softmax layer.\n",
        "        super().__init__()\n",
        "\n",
        "    def forward_pass(self, input_data):\n",
        "        # Performs the forward pass computation using Softmax activation.\n",
        "        # Subtracting maximum value for numerical stability\n",
        "        subtracted_input = input_data - np.max(input_data)\n",
        "        # Exponentiate the subtracted input\n",
        "        exp_values = np.exp(subtracted_input)\n",
        "        # Compute softmax probabilities\n",
        "        self.softmax_output = exp_values / np.sum(exp_values, axis=0)\n",
        "        return self.softmax_output\n",
        "\n",
        "    def backward_pass(self, softmax_output, error):\n",
        "        # Performs the backward pass computation for Softmax.\n",
        "        # Compute the Jacobian matrix\n",
        "        jacobian_matrix = - (softmax_output[:, :, np.newaxis] * softmax_output[:, np.newaxis, :])\n",
        "        jacobian_matrix[:, range(softmax_output.shape[1]), range(softmax_output.shape[1])] += softmax_output\n",
        "        # Compute the input error using the chain rule\n",
        "        input_error = np.sum(error[:, np.newaxis, :] * jacobian_matrix, axis=2)\n",
        "        return input_error\n"
      ]
    },
    {
      "cell_type": "markdown",
      "metadata": {
        "id": "m_pXvXGN3l0z"
      },
      "source": [
        "Activation Layer"
      ]
    },
    {
      "cell_type": "code",
      "execution_count": 111,
      "metadata": {
        "id": "pxPM8DsC3kUc"
      },
      "outputs": [],
      "source": [
        "class Activation(Layer):\n",
        "    def __init__(self, activation_function, derivative_function):\n",
        "        # Initializes the Activation layer with activation and derivative functions.\n",
        "        super().__init__()\n",
        "        self.activation_function = activation_function\n",
        "        self.derivative_function = derivative_function\n",
        "\n",
        "    def forward_pass(self, input_data):\n",
        "        # Performs the forward pass computation using the activation function.\n",
        "        # Store input data for backward pass\n",
        "        self.input_data = input_data\n",
        "        # Apply activation function\n",
        "        output_data = self.activation_function(input_data)\n",
        "        return output_data\n",
        "\n",
        "    def backward_pass(self, error, learning_rate):\n",
        "        # Performs the backward pass computation using the derivative of the activation function.\n",
        "        # Compute derivative of activation function\n",
        "        activation_derivative = self.derivative_function(self.input_data)\n",
        "        # Compute error to be propagated back\n",
        "        input_error = activation_derivative * error\n",
        "        return input_error\n"
      ]
    },
    {
      "cell_type": "code",
      "execution_count": 112,
      "metadata": {
        "id": "uPHj4Gx0UxKz"
      },
      "outputs": [],
      "source": [
        "def find_mse(predictions, targets):\n",
        "    # Calculates the mean squared error (MSE) between predictions and targets.\n",
        "    mse = np.mean((targets - predictions) ** 2)\n",
        "    return mse\n",
        "\n",
        "def find_gradient(predictions, targets):\n",
        "    # Calculates the gradient of the mean squared error (MSE) with respect to predictions.\n",
        "    gradient = 2 * (predictions - targets) / len(targets)\n",
        "    return gradient\n"
      ]
    },
    {
      "cell_type": "markdown",
      "metadata": {
        "id": "vUi6yXlXP0la"
      },
      "source": [
        "Sequential Layer"
      ]
    },
    {
      "cell_type": "code",
      "execution_count": 170,
      "metadata": {
        "id": "h6l-jezUP4KT"
      },
      "outputs": [],
      "source": [
        "class Sequential(Layer):\n",
        "    def __init__(self):\n",
        "        # Initializes the Sequential model.\n",
        "        self.layers = []\n",
        "\n",
        "    def add_layer(self, new_layer):\n",
        "        # Adds a new layer to the Sequential model.\n",
        "        self.layers.append(new_layer)\n",
        "        \n",
        "    def set_loss_functions(self, loss_function, loss_gradient):\n",
        "        # Sets the loss functions for the model.\n",
        "        self.loss_function = loss_function\n",
        "        self.loss_gradient = loss_gradient\n",
        "\n",
        "    def predict(self, input_data):\n",
        "        # Predicts the output for input data using the current model.\n",
        "        predictions = []\n",
        "        # Iterate over each input data point\n",
        "        for data_point in input_data:\n",
        "            output = data_point\n",
        "            # Pass input through each layer in the model\n",
        "            for layer in self.layers:\n",
        "                output = layer.forward_pass(output)\n",
        "            predictions.append(output)\n",
        "        return predictions\n",
        "\n",
        "    def fit(self, x_train, y_train, epochs, learning_rate):\n",
        "        # Trains the model on the training data.\n",
        "        fitted_errors = []\n",
        "        # Iterate over each epoch\n",
        "        for epoch in range(epochs):\n",
        "            total_error = 0\n",
        "            # Iterate over each training sample\n",
        "            for x_sample, y_sample in zip(x_train, y_train):\n",
        "                output = x_sample\n",
        "                # Forward pass through each layer\n",
        "                for layer in self.layers:\n",
        "                    output = layer.forward_pass(output) \n",
        "                total_error += self.loss_function(y_sample, output)  # Compute error and accumulate\n",
        "                error_gradient = self.loss_gradient(y_sample, output)  # Compute error gradient\n",
        "                # Backward pass through each layer\n",
        "                for layer in reversed(self.layers):\n",
        "                    error_gradient = layer.backward_pass(error_gradient, learning_rate)\n",
        "            total_error /= len(x_train)  # Compute average error\n",
        "            fitted_errors.append(total_error)\n",
        "            # Print progress\n",
        "            if epoch % 1 == 0:\n",
        "                print('Epoch %d --> Error = %f' % (epoch+1, total_error))\n",
        "        return fitted_errors\n",
        "\n",
        "    def save_model(self, file=\"neural_network_model.wts\"):\n",
        "        # Saves the model to a file.\n",
        "        with open(file, mode=\"wb\") as f:\n",
        "            pickle.dump(self.retrieve_weights(), f)\n",
        "\n",
        "    def load_model(self, file=\"neural_network_model.wts\"):\n",
        "        # Loads the model from a file.\n",
        "        with open(file, mode=\"rb\") as f:\n",
        "            weights = pickle.load(f)\n",
        "        return weights\n",
        "\n",
        "    def retrieve_weights(self):\n",
        "        # Retrieves the weights from the model.\n",
        "        for layer in self.layers:\n",
        "            if isinstance(layer, LinearLayer):\n",
        "                self.weights = layer.weights\n",
        "                return self.weights\n"
      ]
    },
    {
      "cell_type": "markdown",
      "metadata": {
        "id": "KsFO5WJPQQYh"
      },
      "source": [
        "XOR Problem Model with Sigmoid Activation Function"
      ]
    },
    {
      "cell_type": "code",
      "execution_count": 173,
      "metadata": {
        "colab": {
          "base_uri": "https://localhost:8080/"
        },
        "id": "fp87ns6JQQIJ",
        "outputId": "6341a472-3f3f-4a2e-ca5b-c265dc49ce06"
      },
      "outputs": [
        {
          "name": "stdout",
          "output_type": "stream",
          "text": [
            "Epoch 1 --> Error = 0.270430\n",
            "Epoch 2 --> Error = 0.268569\n",
            "Epoch 3 --> Error = 0.266883\n",
            "Epoch 4 --> Error = 0.265368\n",
            "Epoch 5 --> Error = 0.264016\n",
            "Epoch 6 --> Error = 0.262812\n",
            "Epoch 7 --> Error = 0.261741\n",
            "Epoch 8 --> Error = 0.260790\n",
            "Epoch 9 --> Error = 0.259945\n",
            "Epoch 10 --> Error = 0.259191\n",
            "Epoch 11 --> Error = 0.258518\n",
            "Epoch 12 --> Error = 0.257916\n",
            "Epoch 13 --> Error = 0.257375\n",
            "Epoch 14 --> Error = 0.256888\n",
            "Epoch 15 --> Error = 0.256449\n",
            "Epoch 16 --> Error = 0.256050\n",
            "Epoch 17 --> Error = 0.255688\n",
            "Epoch 18 --> Error = 0.255359\n",
            "Epoch 19 --> Error = 0.255057\n",
            "Epoch 20 --> Error = 0.254781\n",
            "Epoch 21 --> Error = 0.254528\n",
            "Epoch 22 --> Error = 0.254294\n",
            "Epoch 23 --> Error = 0.254078\n",
            "Epoch 24 --> Error = 0.253878\n",
            "Epoch 25 --> Error = 0.253693\n",
            "Epoch 26 --> Error = 0.253521\n",
            "Epoch 27 --> Error = 0.253361\n",
            "Epoch 28 --> Error = 0.253211\n",
            "Epoch 29 --> Error = 0.253071\n",
            "Epoch 30 --> Error = 0.252940\n",
            "Epoch 31 --> Error = 0.252817\n",
            "Epoch 32 --> Error = 0.252702\n",
            "Epoch 33 --> Error = 0.252593\n",
            "Epoch 34 --> Error = 0.252490\n",
            "Epoch 35 --> Error = 0.252394\n",
            "Epoch 36 --> Error = 0.252302\n",
            "Epoch 37 --> Error = 0.252216\n",
            "Epoch 38 --> Error = 0.252133\n",
            "Epoch 39 --> Error = 0.252056\n",
            "Epoch 40 --> Error = 0.251982\n",
            "Epoch 41 --> Error = 0.251911\n",
            "Epoch 42 --> Error = 0.251844\n",
            "Epoch 43 --> Error = 0.251780\n",
            "Epoch 44 --> Error = 0.251719\n",
            "Epoch 45 --> Error = 0.251661\n",
            "Epoch 46 --> Error = 0.251606\n",
            "Epoch 47 --> Error = 0.251552\n",
            "Epoch 48 --> Error = 0.251501\n",
            "Epoch 49 --> Error = 0.251453\n",
            "Epoch 50 --> Error = 0.251406\n",
            "Epoch 51 --> Error = 0.251361\n",
            "Epoch 52 --> Error = 0.251318\n",
            "Epoch 53 --> Error = 0.251276\n",
            "Epoch 54 --> Error = 0.251236\n",
            "Epoch 55 --> Error = 0.251198\n",
            "Epoch 56 --> Error = 0.251161\n",
            "Epoch 57 --> Error = 0.251125\n",
            "Epoch 58 --> Error = 0.251091\n",
            "Epoch 59 --> Error = 0.251058\n",
            "Epoch 60 --> Error = 0.251026\n",
            "Epoch 61 --> Error = 0.250995\n",
            "Epoch 62 --> Error = 0.250965\n",
            "Epoch 63 --> Error = 0.250936\n",
            "Epoch 64 --> Error = 0.250908\n",
            "Epoch 65 --> Error = 0.250881\n",
            "Epoch 66 --> Error = 0.250854\n",
            "Epoch 67 --> Error = 0.250829\n",
            "Epoch 68 --> Error = 0.250804\n",
            "Epoch 69 --> Error = 0.250780\n",
            "Epoch 70 --> Error = 0.250757\n",
            "Epoch 71 --> Error = 0.250735\n",
            "Epoch 72 --> Error = 0.250713\n",
            "Epoch 73 --> Error = 0.250692\n",
            "Epoch 74 --> Error = 0.250671\n",
            "Epoch 75 --> Error = 0.250651\n",
            "Epoch 76 --> Error = 0.250631\n",
            "Epoch 77 --> Error = 0.250612\n",
            "Epoch 78 --> Error = 0.250594\n",
            "Epoch 79 --> Error = 0.250576\n",
            "Epoch 80 --> Error = 0.250559\n",
            "Epoch 81 --> Error = 0.250541\n",
            "Epoch 82 --> Error = 0.250525\n",
            "Epoch 83 --> Error = 0.250509\n",
            "Epoch 84 --> Error = 0.250493\n",
            "Epoch 85 --> Error = 0.250477\n",
            "Epoch 86 --> Error = 0.250462\n",
            "Epoch 87 --> Error = 0.250448\n",
            "Epoch 88 --> Error = 0.250433\n",
            "Epoch 89 --> Error = 0.250419\n",
            "Epoch 90 --> Error = 0.250406\n",
            "Epoch 91 --> Error = 0.250393\n",
            "Epoch 92 --> Error = 0.250379\n",
            "Epoch 93 --> Error = 0.250367\n",
            "Epoch 94 --> Error = 0.250354\n",
            "Epoch 95 --> Error = 0.250342\n",
            "Epoch 96 --> Error = 0.250330\n",
            "Epoch 97 --> Error = 0.250319\n",
            "Epoch 98 --> Error = 0.250307\n",
            "Epoch 99 --> Error = 0.250296\n",
            "Epoch 100 --> Error = 0.250285\n",
            "Predicted :  [array([[0.51310767]]), array([[0.52205506]]), array([[0.52420736]]), array([[0.53140162]])]\n",
            "[1, 1, 1, 1]\n",
            "Optimized weights: [[0.44122907 0.62123786]\n",
            " [0.37634194 0.45055049]]\n",
            "Accuracy of this model:  0.5\n"
          ]
        },
        {
          "name": "stderr",
          "output_type": "stream",
          "text": [
            "C:\\Users\\Admin\\AppData\\Local\\Temp\\ipykernel_10212\\2101612806.py:28: DeprecationWarning: Conversion of an array with ndim > 0 to a scalar is deprecated, and will error in future. Ensure you extract a single element from your array before performing this operation. (Deprecated NumPy 1.25.)\n",
            "  spred = [int(p > threshold) for p in sout]\n"
          ]
        }
      ],
      "source": [
        "# Define input and output data\n",
        "x_train = np.array([[[0,0]],[[0,1]],[[1,0]],[[1,1]]])\n",
        "y_train = np.array([[[0]],[[1]],[[1]],[[0]]])\n",
        "\n",
        "# Create a Sequential model\n",
        "smodel = Sequential()\n",
        "\n",
        "# Add layers to the Sequential model\n",
        "smodel.add_layer(LinearLayer(2, 2))\n",
        "s_model = SigmoidActivation()\n",
        "smodel.add_layer(Activation(s_model.forward_pass, s_model.backward_pass))\n",
        "smodel.add_layer(LinearLayer(2, 1))\n",
        "smodel.add_layer(Activation(s_model.forward_pass, s_model.backward_pass))\n",
        "\n",
        "# Set loss functions for the model\n",
        "smodel.loss_function = lambda tar, pred: np.mean((tar-pred) ** 2)\n",
        "smodel.loss_gradient = lambda tar, pred: 2 * np.mean(pred-tar)\n",
        "\n",
        "# Train the model\n",
        "fitted_errors = smodel.fit(x_train, y_train, epochs=100, learning_rate=0.1)\n",
        "\n",
        "# Predict output using the trained model\n",
        "sout = smodel.predict(x_train)\n",
        "print(\"Predicted : \", sout)\n",
        "\n",
        "# Apply threshold to predictions for classification\n",
        "threshold = 0.5\n",
        "spred = [int(p > threshold) for p in sout]\n",
        "print(spred)\n",
        "\n",
        "# Retrieve and save the optimized weights\n",
        "smodel.retrieve_weights()\n",
        "smodel.save_model()\n",
        "\n",
        "# Load the optimized weights\n",
        "optimized_weights = smodel.load_model()\n",
        "print(\"Optimized weights:\", optimized_weights)\n",
        "\n",
        "# Calculate accuracy of the model\n",
        "s_acc = accuracy_score([0, 1, 1, 0], spred)\n",
        "print(\"Accuracy of this model: \", s_acc)\n"
      ]
    },
    {
      "cell_type": "markdown",
      "metadata": {
        "id": "OLmqbOVlQBq-"
      },
      "source": [
        "XOR Problem Model with Hyperbolic Tangent Activation Function"
      ]
    },
    {
      "cell_type": "code",
      "execution_count": 176,
      "metadata": {
        "colab": {
          "base_uri": "https://localhost:8080/"
        },
        "id": "nRO-FlDQQUvb",
        "outputId": "439cc813-0a4f-4615-e0a4-0bb7ab9b3536"
      },
      "outputs": [
        {
          "name": "stdout",
          "output_type": "stream",
          "text": [
            "Epoch 1 --> Error = 0.280783\n",
            "Epoch 2 --> Error = 0.277388\n",
            "Epoch 3 --> Error = 0.274578\n",
            "Epoch 4 --> Error = 0.272350\n",
            "Epoch 5 --> Error = 0.270662\n",
            "Epoch 6 --> Error = 0.269441\n",
            "Epoch 7 --> Error = 0.268604\n",
            "Epoch 8 --> Error = 0.268068\n",
            "Epoch 9 --> Error = 0.267759\n",
            "Epoch 10 --> Error = 0.267612\n",
            "Epoch 11 --> Error = 0.267581\n",
            "Epoch 12 --> Error = 0.267627\n",
            "Epoch 13 --> Error = 0.267722\n",
            "Epoch 14 --> Error = 0.267849\n",
            "Epoch 15 --> Error = 0.267992\n",
            "Epoch 16 --> Error = 0.268142\n",
            "Epoch 17 --> Error = 0.268293\n",
            "Epoch 18 --> Error = 0.268439\n",
            "Epoch 19 --> Error = 0.268579\n",
            "Epoch 20 --> Error = 0.268709\n",
            "Epoch 21 --> Error = 0.268829\n",
            "Epoch 22 --> Error = 0.268938\n",
            "Epoch 23 --> Error = 0.269036\n",
            "Epoch 24 --> Error = 0.269123\n",
            "Epoch 25 --> Error = 0.269198\n",
            "Epoch 26 --> Error = 0.269263\n",
            "Epoch 27 --> Error = 0.269317\n",
            "Epoch 28 --> Error = 0.269362\n",
            "Epoch 29 --> Error = 0.269397\n",
            "Epoch 30 --> Error = 0.269422\n",
            "Epoch 31 --> Error = 0.269440\n",
            "Epoch 32 --> Error = 0.269449\n",
            "Epoch 33 --> Error = 0.269451\n",
            "Epoch 34 --> Error = 0.269445\n",
            "Epoch 35 --> Error = 0.269433\n",
            "Epoch 36 --> Error = 0.269415\n",
            "Epoch 37 --> Error = 0.269391\n",
            "Epoch 38 --> Error = 0.269362\n",
            "Epoch 39 --> Error = 0.269328\n",
            "Epoch 40 --> Error = 0.269290\n",
            "Epoch 41 --> Error = 0.269248\n",
            "Epoch 42 --> Error = 0.269202\n",
            "Epoch 43 --> Error = 0.269152\n",
            "Epoch 44 --> Error = 0.269100\n",
            "Epoch 45 --> Error = 0.269045\n",
            "Epoch 46 --> Error = 0.268988\n",
            "Epoch 47 --> Error = 0.268929\n",
            "Epoch 48 --> Error = 0.268868\n",
            "Epoch 49 --> Error = 0.268805\n",
            "Epoch 50 --> Error = 0.268742\n",
            "Epoch 51 --> Error = 0.268678\n",
            "Epoch 52 --> Error = 0.268613\n",
            "Epoch 53 --> Error = 0.268547\n",
            "Epoch 54 --> Error = 0.268482\n",
            "Epoch 55 --> Error = 0.268417\n",
            "Epoch 56 --> Error = 0.268352\n",
            "Epoch 57 --> Error = 0.268288\n",
            "Epoch 58 --> Error = 0.268224\n",
            "Epoch 59 --> Error = 0.268162\n",
            "Epoch 60 --> Error = 0.268101\n",
            "Epoch 61 --> Error = 0.268041\n",
            "Epoch 62 --> Error = 0.267983\n",
            "Epoch 63 --> Error = 0.267927\n",
            "Epoch 64 --> Error = 0.267872\n",
            "Epoch 65 --> Error = 0.267820\n",
            "Epoch 66 --> Error = 0.267771\n",
            "Epoch 67 --> Error = 0.267724\n",
            "Epoch 68 --> Error = 0.267679\n",
            "Epoch 69 --> Error = 0.267638\n",
            "Epoch 70 --> Error = 0.267600\n",
            "Epoch 71 --> Error = 0.267565\n",
            "Epoch 72 --> Error = 0.267533\n",
            "Epoch 73 --> Error = 0.267505\n",
            "Epoch 74 --> Error = 0.267480\n",
            "Epoch 75 --> Error = 0.267459\n",
            "Epoch 76 --> Error = 0.267442\n",
            "Epoch 77 --> Error = 0.267429\n",
            "Epoch 78 --> Error = 0.267421\n",
            "Epoch 79 --> Error = 0.267416\n",
            "Epoch 80 --> Error = 0.267416\n",
            "Epoch 81 --> Error = 0.267420\n",
            "Epoch 82 --> Error = 0.267429\n",
            "Epoch 83 --> Error = 0.267442\n",
            "Epoch 84 --> Error = 0.267460\n",
            "Epoch 85 --> Error = 0.267483\n",
            "Epoch 86 --> Error = 0.267511\n",
            "Epoch 87 --> Error = 0.267543\n",
            "Epoch 88 --> Error = 0.267580\n",
            "Epoch 89 --> Error = 0.267622\n",
            "Epoch 90 --> Error = 0.267669\n",
            "Epoch 91 --> Error = 0.267721\n",
            "Epoch 92 --> Error = 0.267778\n",
            "Epoch 93 --> Error = 0.267839\n",
            "Epoch 94 --> Error = 0.267906\n",
            "Epoch 95 --> Error = 0.267977\n",
            "Epoch 96 --> Error = 0.268052\n",
            "Epoch 97 --> Error = 0.268133\n",
            "Epoch 98 --> Error = 0.268218\n",
            "Epoch 99 --> Error = 0.268307\n",
            "Epoch 100 --> Error = 0.268400\n",
            "Predicted :  [array([[0.49409886]]), array([[0.47915571]]), array([[0.48454638]]), array([[0.46113695]])]\n",
            "[0, 0, 0, 0]\n",
            "Optimized weights: [[0.44456828 0.5496279 ]\n",
            " [0.43313993 0.57827206]]\n",
            "Accuracy of this model:  0.5\n"
          ]
        },
        {
          "name": "stderr",
          "output_type": "stream",
          "text": [
            "C:\\Users\\Admin\\AppData\\Local\\Temp\\ipykernel_10212\\2195196499.py:28: DeprecationWarning: Conversion of an array with ndim > 0 to a scalar is deprecated, and will error in future. Ensure you extract a single element from your array before performing this operation. (Deprecated NumPy 1.25.)\n",
            "  tpred = [int(p > threshold) for p in tout]\n"
          ]
        }
      ],
      "source": [
        "# Define input and output data\n",
        "x_train = np.array([[[0,0]],[[0,1]],[[1,0]],[[1,1]]])\n",
        "y_train = np.array([[[0]],[[1]],[[1]],[[0]]])\n",
        "\n",
        "# Create a Sequential model\n",
        "tmodel = Sequential()\n",
        "\n",
        "# Add layers to the Sequential model\n",
        "tmodel.add_layer(LinearLayer(2, 2))\n",
        "t_model = TanhActivation()\n",
        "tmodel.add_layer(Activation(t_model.forward_pass, t_model.backward_pass))\n",
        "tmodel.add_layer(LinearLayer(2, 1))\n",
        "tmodel.add_layer(Activation(t_model.forward_pass, t_model.backward_pass))\n",
        "\n",
        "# Set loss functions for the model\n",
        "tmodel.loss_function = lambda tar, pred: np.mean((tar-pred) ** 2)\n",
        "tmodel.loss_gradient = lambda tar, pred: 2 * np.mean(pred-tar)\n",
        "\n",
        "# Train the model\n",
        "fitted_errors = tmodel.fit(x_train, y_train, epochs=100, learning_rate=0.1)\n",
        "\n",
        "# Predict output using the trained model\n",
        "tout = tmodel.predict(x_train)\n",
        "print(\"Predicted : \", tout)\n",
        "\n",
        "# Apply threshold to predictions for classification\n",
        "threshold = 0.5\n",
        "tpred = [int(p > threshold) for p in tout]\n",
        "print(tpred)\n",
        "\n",
        "# Retrieve and save the optimized weights\n",
        "tmodel.retrieve_weights()\n",
        "tmodel.save_model()\n",
        "\n",
        "# Load the optimized weights\n",
        "optimized_weights = tmodel.load_model()\n",
        "print(\"Optimized weights:\", optimized_weights)\n",
        "\n",
        "# Calculate accuracy of the model\n",
        "t_acc = accuracy_score([0, 1, 1, 0], tpred)\n",
        "print(\"Accuracy of this model: \", t_acc)\n"
      ]
    },
    {
      "cell_type": "markdown",
      "metadata": {
        "id": "g0V7fu5HotEa"
      },
      "source": [
        "Handwritten Digit Recognition"
      ]
    },
    {
      "cell_type": "code",
      "execution_count": null,
      "metadata": {},
      "outputs": [],
      "source": [
        "from keras.datasets import mnist\n",
        "from keras.utils import np_utils"
      ]
    },
    {
      "cell_type": "code",
      "execution_count": null,
      "metadata": {
        "id": "ixPgwjJ0tLBS"
      },
      "outputs": [],
      "source": [
        "# Load MNIST dataset\n",
        "(x_train, y_train), (x_test, y_test) = mnist.load_data()"
      ]
    },
    {
      "cell_type": "code",
      "execution_count": null,
      "metadata": {},
      "outputs": [],
      "source": [
        "# Split the training data into training and validation sets\n",
        "x_train, x_val, y_train, y_val = train_test_split(x_train, y_train, test_size=0.1)"
      ]
    },
    {
      "cell_type": "code",
      "execution_count": null,
      "metadata": {
        "id": "IslUY2gXEPm2"
      },
      "outputs": [],
      "source": [
        "# Reshape training, validation, and test sets to have a single channel and flatten the images\n",
        "x_train = x_train.reshape(x_train.shape[0], 1, 28*28)\n",
        "x_test = x_test.reshape(x_test.shape[0], 1, 28*28)\n",
        "x_val = x_val.reshape(x_val.shape[0], 1, 28*28)\n",
        "\n",
        "# Convert data type to 'float64' and normalize pixel values to the range [0, 1]\n",
        "x_train = x_train.astype('float64') / 255\n",
        "x_test = x_test.astype('float64') / 255\n",
        "x_val = x_val.astype('float64') / 255\n",
        "\n",
        "# Convert labels to one-hot encoding using np_utils.to_categorical\n",
        "y_train = np_utils.to_categorical(y_train)\n",
        "y_test = np_utils.to_categorical(y_test)\n",
        "y_val = np_utils.to_categorical(y_val)"
      ]
    },
    {
      "cell_type": "code",
      "execution_count": null,
      "metadata": {
        "id": "P6qIxj-C44xQ"
      },
      "outputs": [],
      "source": [
        "def calaccuracy(y, ypred):\n",
        "    ypred_index = np.argmax(ypred, axis=1)  # Get the index of the maximum value along the second axis (axis=1) for both true and predicted labels\n",
        "    y_index = np.argmax(y, axis=1)\n",
        "    acc = np.sum(ypred_index == y_index).astype(np.float64) / len(y)  # Calculate the accuracy by comparing the indices of true and predicted labels\n",
        "    return acc"
      ]
    },
    {
      "cell_type": "code",
      "execution_count": null,
      "metadata": {
        "id": "1r_PXM2a41yb"
      },
      "outputs": [],
      "source": [
        "def calset(set):\n",
        "    ss = []  # Initialize an empty list to store one-hot encoded labels\n",
        "    for s in set:\n",
        "        max_index = np.argmax(s)  # Find the index of the maximum value in the label\n",
        "        cs = np.zeros(10)  # Create an array of zeros with length 10 (assuming there are 10 classes)\n",
        "        cs[max_index] = 1  # Set the element at the maximum index to 1\n",
        "        ss.append(cs)  # Append the one-hot encoded label to the list\n",
        "    return np.array(ss)  # Convert the list of one-hot encoded labels to a numpy array"
      ]
    },
    {
      "cell_type": "markdown",
      "metadata": {
        "id": "VN6pCp327i4Q"
      },
      "source": [
        "Model 1 on the training and testing dataset"
      ]
    },
    {
      "cell_type": "code",
      "execution_count": null,
      "metadata": {
        "id": "YeLP_hju48-u"
      },
      "outputs": [],
      "source": [
        "# Create a Sequential model\n",
        "mnistmodel1 = Sequential()\n",
        "\n",
        "# Define activation function\n",
        "h1 = TanhActivation()\n",
        "\n",
        "# Add layers to the Sequential model\n",
        "mnistmodel1.add_layer(LinearLayer(28*28, 100))\n",
        "mnistmodel1.add_layer(Activation(h1.forward_pass, h1.backward_pass))\n",
        "mnistmodel1.add_layer(LinearLayer(100, 50))\n",
        "mnistmodel1.add_layer(Activation(h1.forward_pass, h1.backward_pass))\n",
        "mnistmodel1.add_layer(LinearLayer(50, 25))\n",
        "mnistmodel1.add_layer(Activation(h1.forward_pass, h1.backward_pass))\n",
        "mnistmodel1.add_layer(LinearLayer(25, 10))\n",
        "mnistmodel1.add_layer(Activation(h1.forward_pass, h1.backward_pass))"
      ]
    },
    {
      "cell_type": "code",
      "execution_count": null,
      "metadata": {
        "colab": {
          "base_uri": "https://localhost:8080/",
          "height": 680
        },
        "id": "jszJmrdpFUl0",
        "outputId": "7939168b-7c74-4803-f228-0f7b45d96911"
      },
      "outputs": [
        {
          "name": "stdout",
          "output_type": "stream",
          "text": [
            "epoch 1 --> error = 0.121498\n",
            "epoch 2 --> error = 0.120499\n",
            "epoch 3 --> error = 0.120507\n",
            "epoch 4 --> error = 0.120510\n",
            "epoch 5 --> error = 0.120512\n",
            "epoch 6 --> error = 0.120513\n",
            "epoch 7 --> error = 0.120514\n",
            "epoch 8 --> error = 0.120514\n",
            "epoch 9 --> error = 0.120515\n",
            "epoch 10 --> error = 0.120515\n",
            "Accuracy of mnist model 1 on training dataset:  0.09770370370370371\n"
          ]
        },
        {
          "data": {
            "text/plain": [
              "Text(0, 0.5, 'Loss')"
            ]
          },
          "execution_count": 65,
          "metadata": {},
          "output_type": "execute_result"
        },
        {
          "data": {
            "image/png": "[encoded data removed]",
            "text/plain": [
              "<Figure size 640x480 with 1 Axes>"
            ]
          },
          "metadata": {},
          "output_type": "display_data"
        }
      ],
      "source": [
        "# Set the loss functions for the model\n",
        "mnistmodel1.set_loss_functions(findmse, findgradient)\n",
        "\n",
        "# Train the model on the training dataset\n",
        "loss1_train = mnistmodel1.fit(x_train, y_train, epoch=10, lr=0.1)\n",
        "\n",
        "# Predict output for the training dataset\n",
        "pred1 = mnistmodel1.predict(x_train)\n",
        "\n",
        "# Convert predictions to one-hot encoded format\n",
        "t1 = calset(pred1)\n",
        "\n",
        "# Calculate accuracy of the model on the training dataset\n",
        "accuracy1_train = calaccuracy(y_train, t1)\n",
        "print(\"Accuracy of mnist model 1 on training dataset: \", accuracy1_train)\n",
        "\n",
        "# Plot the loss function for the training dataset\n",
        "plt.plot(loss1_train)\n",
        "plt.title('Model 1 loss function for training data')\n",
        "plt.xlabel('Epochs')\n",
        "plt.ylabel('Loss')\n",
        "plt.show()\n"
      ]
    },
    {
      "cell_type": "code",
      "execution_count": null,
      "metadata": {
        "colab": {
          "base_uri": "https://localhost:8080/",
          "height": 609
        },
        "id": "oMYA4_xI5Zv1",
        "outputId": "3542c0e3-8454-4c03-e7d1-05ecda056aaa"
      },
      "outputs": [
        {
          "name": "stdout",
          "output_type": "stream",
          "text": [
            "epoch 1 --> error = 0.122992\n",
            "epoch 2 --> error = 0.122989\n",
            "epoch 3 --> error = 0.122989\n",
            "epoch 4 --> error = 0.122989\n",
            "epoch 5 --> error = 0.122989\n",
            "Accuracy of mnsit model 1 on test dataset:  0.0958\n"
          ]
        },
        {
          "data": {
            "text/plain": [
              "Text(0, 0.5, 'Loss')"
            ]
          },
          "execution_count": 66,
          "metadata": {},
          "output_type": "execute_result"
        },
        {
          "data": {
            "image/png": "[encoded data removed]",
            "text/plain": [
              "<Figure size 640x480 with 1 Axes>"
            ]
          },
          "metadata": {},
          "output_type": "display_data"
        }
      ],
      "source": [
        "# Set the loss functions for the model\n",
        "mnistmodel1.set_loss_functions(findmse, findgradient)\n",
        "\n",
        "# Train the model on the test dataset\n",
        "loss1_test = mnistmodel1.fit(x_test, y_test, epoch=5, lr=0.1)\n",
        "\n",
        "# Predict output for the test dataset\n",
        "pred1 = mnistmodel1.predict(x_test)\n",
        "\n",
        "# Convert predictions to one-hot encoded format\n",
        "t1 = calset(pred1)\n",
        "\n",
        "# Calculate accuracy of the model on the test dataset\n",
        "accuracy1_test = calaccuracy(y_test, t1)\n",
        "print(\"Accuracy of mnist model 1 on test dataset: \", accuracy1_test)\n",
        "\n",
        "# Plot the loss function for the test dataset\n",
        "plt.plot(loss1_test)\n",
        "plt.title('Model 1 loss function for testing data')\n",
        "plt.xlabel('Epochs')\n",
        "plt.ylabel('Loss')\n",
        "plt.show()"
      ]
    },
    {
      "cell_type": "markdown",
      "metadata": {
        "id": "Xe7rlUNL6PjP"
      },
      "source": [
        "Model 2 on the training and testing dataset"
      ]
    },
    {
      "cell_type": "code",
      "execution_count": null,
      "metadata": {
        "id": "78sdfanP6OS2"
      },
      "outputs": [],
      "source": [
        "# Create a new Sequential model\n",
        "mnistmodel2 = Sequential()\n",
        "\n",
        "# Define activation function\n",
        "h2 = TanhActivation()\n",
        "\n",
        "# Add layers to the Sequential model\n",
        "mnistmodel2.add_layer(LinearLayer(28*28, 150))\n",
        "mnistmodel2.add_layer(Activation(h2.forward_pass, h2.backward_pass))\n",
        "mnistmodel2.add_layer(LinearLayer(150, 75))\n",
        "mnistmodel2.add_layer(Activation(h2.forward_pass, h2.backward_pass))\n",
        "mnistmodel2.add_layer(LinearLayer(75, 10))\n",
        "mnistmodel2.add_layer(Activation(h2.forward_pass, h2.backward_pass))"
      ]
    },
    {
      "cell_type": "code",
      "execution_count": null,
      "metadata": {
        "colab": {
          "base_uri": "https://localhost:8080/",
          "height": 680
        },
        "id": "aCJtjJxB6N5f",
        "outputId": "1283f05f-9923-4f35-983e-9e11aa4f14ce"
      },
      "outputs": [
        {
          "name": "stdout",
          "output_type": "stream",
          "text": [
            "epoch 1 --> error = 0.235583\n",
            "epoch 2 --> error = 0.097175\n",
            "epoch 3 --> error = 0.093343\n",
            "epoch 4 --> error = 0.086768\n",
            "epoch 5 --> error = 0.086335\n",
            "epoch 6 --> error = 0.086160\n",
            "epoch 7 --> error = 0.085995\n",
            "epoch 8 --> error = 0.077549\n",
            "epoch 9 --> error = 0.067415\n",
            "epoch 10 --> error = 0.066478\n",
            "Accuracy of mnist model 2 on training dataset:  0.3921851851851852\n"
          ]
        },
        {
          "data": {
            "text/plain": [
              "Text(0, 0.5, 'Loss')"
            ]
          },
          "execution_count": 70,
          "metadata": {},
          "output_type": "execute_result"
        },
        {
          "data": {
            "image/png": "[encoded data removed]",
            "text/plain": [
              "<Figure size 640x480 with 1 Axes>"
            ]
          },
          "metadata": {},
          "output_type": "display_data"
        }
      ],
      "source": [
        "# Set the loss functions for the model\n",
        "mnistmodel2.set_loss_functions(findmse, findgradient)\n",
        "\n",
        "# Train the model on the training dataset\n",
        "loss2_train = mnistmodel2.fit(x_train, y_train, epoch=10, lr=0.01)\n",
        "\n",
        "# Predict output for the training dataset\n",
        "pred2 = mnistmodel2.predict(x_train)\n",
        "\n",
        "# Convert predictions to one-hot encoded format\n",
        "t2 = calset(pred2)\n",
        "\n",
        "# Calculate accuracy of the model on the training dataset\n",
        "accuracy2_train = calaccuracy(y_train, t2)\n",
        "print(\"Accuracy of mnist model 2 on training dataset: \", accuracy2_train)\n",
        "\n",
        "# Plot the loss function for the training dataset\n",
        "plt.plot(loss2_train)\n",
        "plt.title('Model 2 loss function for training data')\n",
        "plt.xlabel('Epochs')\n",
        "plt.ylabel('Loss')\n",
        "plt.show()"
      ]
    },
    {
      "cell_type": "code",
      "execution_count": null,
      "metadata": {
        "colab": {
          "base_uri": "https://localhost:8080/",
          "height": 594
        },
        "id": "AfOmkWzRzBc4",
        "outputId": "20f508d2-4b0d-4c19-84f3-3fddba130ccf"
      },
      "outputs": [
        {
          "name": "stdout",
          "output_type": "stream",
          "text": [
            "epoch 1 --> error = 0.066611\n",
            "epoch 2 --> error = 0.066515\n",
            "epoch 3 --> error = 0.066438\n",
            "epoch 4 --> error = 0.066374\n",
            "epoch 5 --> error = 0.066318\n",
            "Accuracy of mnsit model 2 on test dataset:  0.4173\n"
          ]
        },
        {
          "data": {
            "text/plain": [
              "Text(0, 0.5, 'Loss')"
            ]
          },
          "execution_count": 71,
          "metadata": {},
          "output_type": "execute_result"
        },
        {
          "data": {
            "image/png": "[encoded data removed]",
            "text/plain": [
              "<Figure size 640x480 with 1 Axes>"
            ]
          },
          "metadata": {},
          "output_type": "display_data"
        }
      ],
      "source": [
        "# Set the loss functions for the model\n",
        "mnistmodel2.set_loss_functions(findmse, findgradient)\n",
        "\n",
        "# Train the model on the test dataset\n",
        "loss2_test = mnistmodel2.fit(x_test, y_test, epoch=5, lr=0.01)\n",
        "\n",
        "# Predict output for the test dataset\n",
        "pred2 = mnistmodel2.predict(x_test)\n",
        "\n",
        "# Convert predictions to one-hot encoded format\n",
        "t2 = calset(pred2)\n",
        "\n",
        "# Calculate accuracy of the model on the test dataset\n",
        "accuracy2_test = calaccuracy(y_test, t2)\n",
        "print(\"Accuracy of mnist model 2 on test dataset: \", accuracy2_test)\n",
        "\n",
        "# Plot the loss function for the test dataset\n",
        "plt.plot(loss2_test)\n",
        "plt.title('Model 2 loss function for testing data')\n",
        "plt.xlabel('Epochs')\n",
        "plt.ylabel('Loss')\n",
        "plt.show()"
      ]
    },
    {
      "cell_type": "markdown",
      "metadata": {
        "id": "lO37pf6y6Uiv"
      },
      "source": [
        "Model 3 on the training and testing dataset"
      ]
    },
    {
      "cell_type": "code",
      "execution_count": null,
      "metadata": {
        "id": "C2EF2krK6Vtb"
      },
      "outputs": [],
      "source": [
        "# Create a new Sequential model\n",
        "mnistmodel3 = Sequential()\n",
        "\n",
        "# Define activation function\n",
        "h3 = TanhActivation()\n",
        "\n",
        "# Add layers to the Sequential model\n",
        "mnistmodel3.add_layer(LinearLayer(28*28, 20))\n",
        "mnistmodel3.add_layer(Activation(h3.forward_pass, h3.backward_pass))\n",
        "mnistmodel3.add_layer(LinearLayer(20, 10))\n",
        "mnistmodel3.add_layer(Activation(h3.forward_pass, h3.backward_pass))"
      ]
    },
    {
      "cell_type": "code",
      "execution_count": null,
      "metadata": {
        "colab": {
          "base_uri": "https://localhost:8080/",
          "height": 680
        },
        "id": "FzPKrGno6VHH",
        "outputId": "c0ba546d-2f01-40a3-dd05-61f0e1eb9652"
      },
      "outputs": [
        {
          "name": "stdout",
          "output_type": "stream",
          "text": [
            "epoch 1 --> error = 0.027731\n",
            "epoch 2 --> error = 0.026856\n",
            "epoch 3 --> error = 0.026086\n",
            "epoch 4 --> error = 0.025387\n",
            "epoch 5 --> error = 0.024755\n",
            "epoch 6 --> error = 0.024180\n",
            "epoch 7 --> error = 0.023643\n",
            "epoch 8 --> error = 0.023132\n",
            "epoch 9 --> error = 0.022645\n",
            "epoch 10 --> error = 0.022194\n",
            "Accuracy of mnist model 3 on training dataset:  0.9035\n"
          ]
        },
        {
          "data": {
            "text/plain": [
              "Text(0, 0.5, 'Loss')"
            ]
          },
          "execution_count": 77,
          "metadata": {},
          "output_type": "execute_result"
        },
        {
          "data": {
            "image/png": "[encoded data removed]",
            "text/plain": [
              "<Figure size 640x480 with 1 Axes>"
            ]
          },
          "metadata": {},
          "output_type": "display_data"
        }
      ],
      "source": [
        "# Set the loss functions for the model\n",
        "mnistmodel3.set_loss_functions(findmse, findgradient)\n",
        "\n",
        "# Train the model on the training dataset\n",
        "loss3_train = mnistmodel3.fit(x_train, y_train, epoch=10, lr=0.001)\n",
        "\n",
        "# Predict output for the training dataset\n",
        "pred3 = mnistmodel3.predict(x_train)\n",
        "\n",
        "# Convert predictions to one-hot encoded format\n",
        "t3 = calset(pred3)\n",
        "\n",
        "# Calculate accuracy of the model on the training dataset\n",
        "accuracy3_train = calaccuracy(y_train, t3)\n",
        "print(\"Accuracy of mnist model 3 on training dataset: \", accuracy3_train)\n",
        "\n",
        "# Plot the loss function for the training dataset\n",
        "plt.plot(loss3_train)\n",
        "plt.title('Model 3 loss function for training data')\n",
        "plt.xlabel('Epochs')\n",
        "plt.ylabel('Loss')\n",
        "plt.show()"
      ]
    },
    {
      "cell_type": "code",
      "execution_count": null,
      "metadata": {
        "colab": {
          "base_uri": "https://localhost:8080/",
          "height": 594
        },
        "id": "QNOcYFuezBvA",
        "outputId": "ebdd1183-b41d-4022-c33f-6ed44ac12c82"
      },
      "outputs": [
        {
          "name": "stdout",
          "output_type": "stream",
          "text": [
            "epoch 1 --> error = 0.021131\n",
            "epoch 2 --> error = 0.020955\n",
            "epoch 3 --> error = 0.020807\n",
            "epoch 4 --> error = 0.020673\n",
            "epoch 5 --> error = 0.020551\n",
            "Accuracy of mnsit model 3 on test dataset:  0.9133\n"
          ]
        },
        {
          "data": {
            "text/plain": [
              "Text(0, 0.5, 'Loss')"
            ]
          },
          "execution_count": 78,
          "metadata": {},
          "output_type": "execute_result"
        },
        {
          "data": {
            "image/png": "[encoded data removed]",
            "text/plain": [
              "<Figure size 640x480 with 1 Axes>"
            ]
          },
          "metadata": {},
          "output_type": "display_data"
        }
      ],
      "source": [
        "# Set the loss functions for the model\n",
        "mnistmodel3.set_loss_functions(findmse, findgradient)\n",
        "\n",
        "# Train the model on the test dataset\n",
        "loss3_test = mnistmodel3.fit(x_test, y_test, epoch=5, lr=0.001)\n",
        "\n",
        "# Predict output for the test dataset\n",
        "pred3 = mnistmodel3.predict(x_test)\n",
        "\n",
        "# Convert predictions to one-hot encoded format\n",
        "t3 = calset(pred3)\n",
        "\n",
        "# Calculate accuracy of the model on the test dataset\n",
        "accuracy3_test = calaccuracy(y_test, t3)\n",
        "print(\"Accuracy of mnist model 3 on test dataset: \", accuracy3_test)\n",
        "\n",
        "# Plot the loss function for the test dataset\n",
        "plt.plot(loss3_test)\n",
        "plt.title('Model 3 loss function for testing data')\n",
        "plt.xlabel('Epochs')\n",
        "plt.ylabel('Loss')\n",
        "plt.show()"
      ]
    }
  ],
  "metadata": {
    "colab": {
      "provenance": []
    },
    "kernelspec": {
      "display_name": "Python 3",
      "name": "python3"
    },
    "language_info": {
      "codemirror_mode": {
        "name": "ipython",
        "version": 3
      },
      "file_extension": ".py",
      "mimetype": "text/x-python",
      "name": "python",
      "nbconvert_exporter": "python",
      "pygments_lexer": "ipython3",
      "version": "3.12.1"
    }
  },
  "nbformat": 4,
  "nbformat_minor": 0
}
